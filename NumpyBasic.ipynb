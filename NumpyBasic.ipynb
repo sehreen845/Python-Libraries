{
 "cells": [
  {
   "cell_type": "code",
   "execution_count": 2,
   "id": "4110b979-68a7-46a6-a1d5-1819a93f1b81",
   "metadata": {},
   "outputs": [],
   "source": [
    "import numpy as np"
   ]
  },
  {
   "cell_type": "code",
   "execution_count": 35,
   "id": "c9c0b2e8-ea78-497a-9588-67d898290a11",
   "metadata": {},
   "outputs": [
    {
     "name": "stdout",
     "output_type": "stream",
     "text": [
      "1.26.4\n"
     ]
    }
   ],
   "source": [
    "#Printing Numpy Version:\n",
    "print(np.__version__)"
   ]
  },
  {
   "cell_type": "code",
   "execution_count": 33,
   "id": "e3eb8754-df97-4f19-b3ea-b79147e98483",
   "metadata": {},
   "outputs": [
    {
     "name": "stdout",
     "output_type": "stream",
     "text": [
      "[1 2 3 4 5]\n"
     ]
    }
   ],
   "source": [
    "#A Simple Numpy Array:\n",
    "arr = np.array([1, 2, 3, 4, 5])\n",
    "print(arr)"
   ]
  },
  {
   "cell_type": "code",
   "execution_count": 37,
   "id": "2aafc20f-698e-4778-a55c-80a54743924d",
   "metadata": {},
   "outputs": [
    {
     "name": "stdout",
     "output_type": "stream",
     "text": [
      "<class 'numpy.ndarray'>\n"
     ]
    }
   ],
   "source": [
    "#Printing the array type:\n",
    "print(type(arr))"
   ]
  },
  {
   "cell_type": "code",
   "execution_count": 38,
   "id": "a38eff12-4bf0-4d9f-99fe-a14a0cc9e8da",
   "metadata": {},
   "outputs": [
    {
     "name": "stdout",
     "output_type": "stream",
     "text": [
      "13\n"
     ]
    }
   ],
   "source": [
    "#0D Array- No array just a value:\n",
    "zeroD=np.array(13)\n",
    "print(zeroD)"
   ]
  },
  {
   "cell_type": "code",
   "execution_count": 39,
   "id": "faf4841c-4e9d-45c4-a07c-201acaeec934",
   "metadata": {},
   "outputs": [
    {
     "name": "stdout",
     "output_type": "stream",
     "text": [
      "[1 2 3 4 5]\n"
     ]
    }
   ],
   "source": [
    "#1D Array- A simple one dimension array:\n",
    "oneD = np.array([1, 2, 3, 4, 5])\n",
    "print(oneD)"
   ]
  },
  {
   "cell_type": "code",
   "execution_count": 40,
   "id": "7896d782-b2a0-4ff2-839c-c4de07812caf",
   "metadata": {},
   "outputs": [
    {
     "name": "stdout",
     "output_type": "stream",
     "text": [
      "[[1 2 3]\n",
      " [4 5 6]]\n"
     ]
    }
   ],
   "source": [
    "#2D Array- An array with 2 arrays within:\n",
    "twoD = np.array([[1, 2, 3], [4, 5, 6]])\n",
    "print(twoD)"
   ]
  },
  {
   "cell_type": "code",
   "execution_count": 41,
   "id": "53e1ec09-2756-4176-beff-0cf1acd47b63",
   "metadata": {},
   "outputs": [
    {
     "name": "stdout",
     "output_type": "stream",
     "text": [
      "[[[1 2 3]\n",
      "  [4 5 6]]\n",
      "\n",
      " [[1 2 3]\n",
      "  [4 5 6]]]\n"
     ]
    }
   ],
   "source": [
    "#3D Array- Arrays within an array:\n",
    "threeD = np.array([[[1, 2, 3], [4, 5, 6]], [[1, 2, 3], [4, 5, 6]]])\n",
    "print(threeD)"
   ]
  },
  {
   "cell_type": "code",
   "execution_count": 42,
   "id": "01586205-a1c6-426e-84c9-68262a43aa25",
   "metadata": {},
   "outputs": [
    {
     "name": "stdout",
     "output_type": "stream",
     "text": [
      "3\n"
     ]
    }
   ],
   "source": [
    "#Check the dimentions of array:\n",
    "myarray= np.array([[[1, 2, 3], [4, 5, 6]], [[1, 2, 3], [4, 5, 6]]])\n",
    "print(myarray.ndim)"
   ]
  },
  {
   "cell_type": "code",
   "execution_count": 43,
   "id": "ec65f96b-1928-4b4c-86dd-f05bde04e9bb",
   "metadata": {},
   "outputs": [
    {
     "name": "stdout",
     "output_type": "stream",
     "text": [
      "[[[[[1 2 3 4]]]]]\n",
      "number of dimensions : 5\n"
     ]
    }
   ],
   "source": [
    "#Setting dimensions of an array:\n",
    "dim = np.array([1, 2, 3, 4], ndmin=5)\n",
    "\n",
    "print(dim)\n",
    "print('number of dimensions :', dim.ndim)"
   ]
  },
  {
   "cell_type": "code",
   "execution_count": 2,
   "id": "e5e484bc-1460-4819-8574-853fc2e65d82",
   "metadata": {},
   "outputs": [
    {
     "name": "stdout",
     "output_type": "stream",
     "text": [
      "1\n"
     ]
    }
   ],
   "source": [
    "#Getting an element by its index:\n",
    "indarr = np.array([1, 2, 3, 4])\n",
    "print(indarr[0])"
   ]
  },
  {
   "cell_type": "code",
   "execution_count": 4,
   "id": "70501578-569c-4f17-9d3a-c19abd3aef30",
   "metadata": {},
   "outputs": [
    {
     "name": "stdout",
     "output_type": "stream",
     "text": [
      "7\n"
     ]
    }
   ],
   "source": [
    "#Operations on values using their indexes:\n",
    "addind = np.array([1, 2, 3, 4])\n",
    "print(addind[2] + addind[3])"
   ]
  },
  {
   "cell_type": "code",
   "execution_count": 6,
   "id": "d7cf5762-f570-4600-92ce-e22ae3c80704",
   "metadata": {},
   "outputs": [
    {
     "name": "stdout",
     "output_type": "stream",
     "text": [
      "2nd element on 1st row:  2\n"
     ]
    }
   ],
   "source": [
    "#Accessing elements on 2D array:\n",
    "twod = np.array([[1,2,3,4,5], [6,7,8,9,10]])\n",
    "print('2nd element on 1st row: ', twod[0, 1]) #just as the nested tuples are accessed"
   ]
  },
  {
   "cell_type": "code",
   "execution_count": 7,
   "id": "3d1c3940-1004-4953-afd5-01b92774b515",
   "metadata": {},
   "outputs": [
    {
     "name": "stdout",
     "output_type": "stream",
     "text": [
      "6\n"
     ]
    }
   ],
   "source": [
    "#Accessing 3D arrays:\n",
    "threed = np.array([[[1, 2, 3], [4, 5, 6]], [[7, 8, 9], [10, 11, 12]]])\n",
    "print(threed[0, 1, 2])"
   ]
  },
  {
   "cell_type": "code",
   "execution_count": 8,
   "id": "8eab66f1-330e-4da4-9bb4-e20fe4034c72",
   "metadata": {},
   "outputs": [
    {
     "name": "stdout",
     "output_type": "stream",
     "text": [
      "Last element from 2nd dim:  10\n"
     ]
    }
   ],
   "source": [
    "#Negative indexing- accessing the array from behind (-1st element is the last element):\n",
    "negarr = np.array([[1,2,3,4,5], [6,7,8,9,10]])\n",
    "print('Last element from 2nd dim: ', negarr[1, -1])"
   ]
  },
  {
   "cell_type": "code",
   "execution_count": 9,
   "id": "2ace6a06-5af1-4b44-9078-f319184719cd",
   "metadata": {},
   "outputs": [
    {
     "name": "stdout",
     "output_type": "stream",
     "text": [
      "[2 3 4 5]\n"
     ]
    }
   ],
   "source": [
    "#Array slicing:\n",
    "slicearr = np.array([1, 2, 3, 4, 5, 6, 7])\n",
    "print(slicearr[1:5])"
   ]
  },
  {
   "cell_type": "code",
   "execution_count": 3,
   "id": "c6e89d0f-68b3-481b-a5c8-ce73380440bf",
   "metadata": {},
   "outputs": [
    {
     "name": "stdout",
     "output_type": "stream",
     "text": [
      "[5 6 7]\n"
     ]
    }
   ],
   "source": [
    "#Slicing from a particular index to last:\n",
    "endslicearr = np.array([1, 2, 3, 4, 5, 6, 7])\n",
    "print(endslicearr[4:])"
   ]
  },
  {
   "cell_type": "code",
   "execution_count": 4,
   "id": "1121e988-7587-48d9-ac8c-87bea9430125",
   "metadata": {},
   "outputs": [
    {
     "name": "stdout",
     "output_type": "stream",
     "text": [
      "[1 2 3 4]\n"
     ]
    }
   ],
   "source": [
    "#Slicing from start to particular index:\n",
    "startslicearr = np.array([1, 2, 3, 4, 5, 6, 7])\n",
    "print(startslicearr[:4])"
   ]
  },
  {
   "cell_type": "code",
   "execution_count": 5,
   "id": "7c309a9a-19fa-4c9c-bf9a-971b5c83cca4",
   "metadata": {},
   "outputs": [
    {
     "name": "stdout",
     "output_type": "stream",
     "text": [
      "[5 6]\n"
     ]
    }
   ],
   "source": [
    "#Negative SLicing:\n",
    "negslice = np.array([1, 2, 3, 4, 5, 6, 7])\n",
    "print(negslice[-3:-1])"
   ]
  },
  {
   "cell_type": "code",
   "execution_count": 7,
   "id": "b96aec1c-dd65-446f-953d-3992bebf1a7e",
   "metadata": {},
   "outputs": [
    {
     "name": "stdout",
     "output_type": "stream",
     "text": [
      "[2 4]\n"
     ]
    }
   ],
   "source": [
    "#Access the elements alternately, within particular indexes:\n",
    "stparr = np.array([1, 2, 3, 4, 5, 6, 7])\n",
    "print(stparr[1:5:2])"
   ]
  },
  {
   "cell_type": "code",
   "execution_count": 8,
   "id": "20d1adb7-08a6-4cff-9a05-d4cb0cd76684",
   "metadata": {},
   "outputs": [
    {
     "name": "stdout",
     "output_type": "stream",
     "text": [
      "[1 3 5 7]\n"
     ]
    }
   ],
   "source": [
    "#Access all the elements alternately:\n",
    "altarr = np.array([1, 2, 3, 4, 5, 6, 7])\n",
    "print(altarr[::2])"
   ]
  },
  {
   "cell_type": "code",
   "execution_count": 10,
   "id": "606e0912-3791-481d-9234-58274b4f3f76",
   "metadata": {},
   "outputs": [
    {
     "name": "stdout",
     "output_type": "stream",
     "text": [
      "[3 8]\n"
     ]
    }
   ],
   "source": [
    "#Slicing 2D array:\n",
    "oneslicearr = np.array([[1, 2, 3, 4, 5], [6, 7, 8, 9, 10]])\n",
    "print(oneslicearr[0:2, 2]) #2 is the address of second row"
   ]
  },
  {
   "cell_type": "code",
   "execution_count": 13,
   "id": "b2a033f3-7640-4c90-ae97-f4c8bc65d350",
   "metadata": {},
   "outputs": [
    {
     "name": "stdout",
     "output_type": "stream",
     "text": [
      "[[2 3 4]\n",
      " [7 8 9]]\n"
     ]
    }
   ],
   "source": [
    "#SLicing from both arrays in a 2D array:\n",
    "bothslicearr = np.array([[1, 2, 3, 4, 5], [6, 7, 8, 9, 10]])\n",
    "print(bothslicearr[0:2, 1:4])"
   ]
  },
  {
   "cell_type": "code",
   "execution_count": 16,
   "id": "892f4c20-af3d-4759-b8a6-82cc4fd1e5ac",
   "metadata": {},
   "outputs": [
    {
     "name": "stdout",
     "output_type": "stream",
     "text": [
      "<U6\n"
     ]
    }
   ],
   "source": [
    "#Checking the datatype of the elements in the array:\n",
    "dttype = np.array(['apple', 'banana', 'cherry'])\n",
    "print(dttype.dtype) #U6 refers to unicode string"
   ]
  },
  {
   "cell_type": "code",
   "execution_count": 17,
   "id": "7e1d5ce9-67f0-47a6-9f71-fcaa53e3af85",
   "metadata": {},
   "outputs": [
    {
     "name": "stdout",
     "output_type": "stream",
     "text": [
      "[b'1' b'2' b'3' b'4']\n",
      "|S1\n"
     ]
    }
   ],
   "source": [
    "#Creating an array with defined datatype:\n",
    "dtypearr = np.array([1, 2, 3, 4], dtype='S')\n",
    "print(dtypearr)\n",
    "print(dtypearr.dtype)"
   ]
  },
  {
   "cell_type": "code",
   "execution_count": 18,
   "id": "32dab004-0a5e-43f3-bbb3-c8a0c0af547f",
   "metadata": {},
   "outputs": [
    {
     "name": "stdout",
     "output_type": "stream",
     "text": [
      "[1 2 3 4]\n",
      "int32\n"
     ]
    }
   ],
   "source": [
    "#Assigning datatype with size:\n",
    "dtsizearr = np.array([1, 2, 3, 4], dtype='i4') #integer of 4 bytes\n",
    "print(dtsizearr)\n",
    "print(dtsizearr.dtype)"
   ]
  },
  {
   "cell_type": "code",
   "execution_count": 20,
   "id": "eec18211-97a0-4d70-80a9-448a12566dd0",
   "metadata": {},
   "outputs": [
    {
     "ename": "ValueError",
     "evalue": "invalid literal for int() with base 10: 'a'",
     "output_type": "error",
     "traceback": [
      "\u001b[1;31m---------------------------------------------------------------------------\u001b[0m",
      "\u001b[1;31mValueError\u001b[0m                                Traceback (most recent call last)",
      "Cell \u001b[1;32mIn[20], line 2\u001b[0m\n\u001b[0;32m      1\u001b[0m \u001b[38;5;66;03m#Non converted datatypes:\u001b[39;00m\n\u001b[1;32m----> 2\u001b[0m wrongarr \u001b[38;5;241m=\u001b[39m np\u001b[38;5;241m.\u001b[39marray([\u001b[38;5;124m'\u001b[39m\u001b[38;5;124ma\u001b[39m\u001b[38;5;124m'\u001b[39m, \u001b[38;5;124m'\u001b[39m\u001b[38;5;124m2\u001b[39m\u001b[38;5;124m'\u001b[39m, \u001b[38;5;124m'\u001b[39m\u001b[38;5;124m3\u001b[39m\u001b[38;5;124m'\u001b[39m], dtype\u001b[38;5;241m=\u001b[39m\u001b[38;5;124m'\u001b[39m\u001b[38;5;124mi\u001b[39m\u001b[38;5;124m'\u001b[39m)\n\u001b[0;32m      3\u001b[0m \u001b[38;5;28mprint\u001b[39m(wrongarr)\n\u001b[0;32m      4\u001b[0m \u001b[38;5;28mprint\u001b[39m(wrongarr\u001b[38;5;241m.\u001b[39mdtype)\n",
      "\u001b[1;31mValueError\u001b[0m: invalid literal for int() with base 10: 'a'"
     ]
    }
   ],
   "source": [
    "#Non converted datatypes:\n",
    "wrongarr = np.array(['a', '2', '3'], dtype='i')\n",
    "print(wrongarr)\n",
    "print(wrongarr.dtype) #will throw an error because of wrong datatype"
   ]
  },
  {
   "cell_type": "code",
   "execution_count": 21,
   "id": "6d159e44-cabc-4965-b799-d90d237a57bc",
   "metadata": {},
   "outputs": [
    {
     "name": "stdout",
     "output_type": "stream",
     "text": [
      "[1 2 3]\n",
      "int32\n"
     ]
    }
   ],
   "source": [
    "#Changing datatype of an already created array:\n",
    "arrone = np.array([1.1, 2.1, 3.1])\n",
    "arrtwo = arrone.astype('i')\n",
    "\n",
    "print(arrtwo)\n",
    "print(arrtwo.dtype)"
   ]
  },
  {
   "cell_type": "code",
   "execution_count": 23,
   "id": "524b4366-6c40-4493-ab26-5573bd3650a8",
   "metadata": {},
   "outputs": [
    {
     "name": "stdout",
     "output_type": "stream",
     "text": [
      "[ True False  True]\n",
      "bool\n"
     ]
    }
   ],
   "source": [
    "#Change data type from integer to boolean:\n",
    "arrint = np.array([1, 0, 3])\n",
    "\n",
    "arrbool = arrint.astype(bool) #Converts zeros into false\n",
    "\n",
    "print(arrbool)\n",
    "print(arrbool.dtype)"
   ]
  },
  {
   "cell_type": "code",
   "execution_count": 28,
   "id": "92bb8fcb-8433-4c0a-8443-8c0f2976c5ef",
   "metadata": {},
   "outputs": [
    {
     "name": "stdout",
     "output_type": "stream",
     "text": [
      "[42  2  3  4  5]\n",
      "[1 2 3 4 5]\n"
     ]
    }
   ],
   "source": [
    "#Copy of an array- Copy is a new array that exists as copy of the previous one:\n",
    "copyarr = np.array([1, 2, 3, 4, 5])\n",
    "new = copyarr.copy()\n",
    "copyarr[0] = 42\n",
    "\n",
    "print(copyarr)\n",
    "print(new)"
   ]
  },
  {
   "cell_type": "code",
   "execution_count": 29,
   "id": "dd24baad-1c3e-4227-bbcd-a47ddb1fb37f",
   "metadata": {},
   "outputs": [
    {
     "name": "stdout",
     "output_type": "stream",
     "text": [
      "[42  2  3  4  5]\n",
      "[42  2  3  4  5]\n"
     ]
    }
   ],
   "source": [
    "#Making a view of an array- View is just a view of the array:\n",
    "viewarr = np.array([1, 2, 3, 4, 5])\n",
    "newv = viewarr.view()\n",
    "viewarr[0] = 42\n",
    "\n",
    "print(viewarr)\n",
    "print(newv)"
   ]
  },
  {
   "cell_type": "code",
   "execution_count": 30,
   "id": "2e9efa36-5a84-4c4e-a95d-9b30d0d0ee7c",
   "metadata": {},
   "outputs": [
    {
     "name": "stdout",
     "output_type": "stream",
     "text": [
      "[31  2  3  4  5]\n",
      "[31  2  3  4  5]\n"
     ]
    }
   ],
   "source": [
    "#The changes made in view affect the original array:\n",
    "viewar = np.array([1, 2, 3, 4, 5])\n",
    "newview = viewar.view()\n",
    "newview[0] = 31\n",
    "\n",
    "print(viewar)\n",
    "print(newview)"
   ]
  },
  {
   "cell_type": "code",
   "execution_count": 31,
   "id": "e15940bc-b379-4474-86b6-aff56393bdd6",
   "metadata": {},
   "outputs": [
    {
     "name": "stdout",
     "output_type": "stream",
     "text": [
      "None\n",
      "[1 2 3 4 5]\n"
     ]
    }
   ],
   "source": [
    "#Checking if array owns its data- Copy owns the data, View does'nt:\n",
    "arrown = np.array([1, 2, 3, 4, 5])\n",
    "\n",
    "x = arrown.copy()\n",
    "y = arrown.view()\n",
    "\n",
    "print(x.base)\n",
    "print(y.base)"
   ]
  },
  {
   "cell_type": "code",
   "execution_count": 33,
   "id": "f66c16d1-8646-4f00-a789-9340754695ca",
   "metadata": {},
   "outputs": [
    {
     "name": "stdout",
     "output_type": "stream",
     "text": [
      "(2, 4)\n"
     ]
    }
   ],
   "source": [
    "#Checking the shape of an array:\n",
    "arrshp = np.array([[1, 2, 3, 4], [5, 6, 7, 8]])\n",
    "print(arrshp.shape) #Gives the number of rows and columns"
   ]
  },
  {
   "cell_type": "code",
   "execution_count": null,
   "id": "0d260772-2d31-4a5d-a992-9a817b5c1ca6",
   "metadata": {},
   "outputs": [],
   "source": [
    "#Checking the shape of 5D array:\n",
    "arrfive = np.array([1, 2, 3, 4], ndmin=5)\n",
    "\n",
    "print(arr)\n",
    "print('shape of array :', arr.shape)"
   ]
  },
  {
   "cell_type": "code",
   "execution_count": 4,
   "id": "62fea0ec-a1e5-4dd7-af4a-305ca1c65571",
   "metadata": {},
   "outputs": [
    {
     "name": "stdout",
     "output_type": "stream",
     "text": [
      "[[ 1  2  3]\n",
      " [ 4  5  6]\n",
      " [ 7  8  9]\n",
      " [10 11 12]]\n"
     ]
    }
   ],
   "source": [
    "#Reshaping an array:\n",
    "arrres = np.array([1, 2, 3, 4, 5, 6, 7, 8, 9, 10, 11, 12])\n",
    "\n",
    "reshaped = arrres.reshape(4, 3) #4 rows with 3 values\n",
    "print(reshaped)"
   ]
  },
  {
   "cell_type": "code",
   "execution_count": 6,
   "id": "6e86f719-7dff-47d8-9122-f0bae2986732",
   "metadata": {},
   "outputs": [
    {
     "name": "stdout",
     "output_type": "stream",
     "text": [
      "[[[ 1  2]\n",
      "  [ 3  4]\n",
      "  [ 5  6]]\n",
      "\n",
      " [[ 7  8]\n",
      "  [ 9 10]\n",
      "  [11 12]]]\n"
     ]
    }
   ],
   "source": [
    "#Reshaping from 1D to 3D:\n",
    "onedarr = np.array([1, 2, 3, 4, 5, 6, 7, 8, 9, 10, 11, 12])\n",
    "\n",
    "threedarr = onedarr.reshape(2, 3, 2)\n",
    "print(threedarr)"
   ]
  },
  {
   "cell_type": "code",
   "execution_count": 9,
   "id": "593ca213-510e-4646-b6ca-db34cf3f7a06",
   "metadata": {},
   "outputs": [
    {
     "name": "stdout",
     "output_type": "stream",
     "text": [
      "[1 2 3 4 5 6]\n"
     ]
    }
   ],
   "source": [
    "#Flattening the array- reshaping to decrease the dimension degreeL\n",
    "oriarr = np.array([[1, 2, 3], [4, 5, 6]])\n",
    "\n",
    "flatarr = oriarr.reshape(-1) #Reduce one dimension\n",
    "print(flatarr)"
   ]
  },
  {
   "cell_type": "code",
   "execution_count": 10,
   "id": "7de3ff67-5d77-4b8b-882f-2425d97c9a50",
   "metadata": {},
   "outputs": [
    {
     "name": "stdout",
     "output_type": "stream",
     "text": [
      "1\n",
      "2\n",
      "3\n"
     ]
    }
   ],
   "source": [
    "#Iterating each value in an array:\n",
    "itrarr = np.array([1, 2, 3])\n",
    "\n",
    "for i in itrarr:\n",
    "  print(i)"
   ]
  },
  {
   "cell_type": "code",
   "execution_count": 12,
   "id": "fb702532-5da1-4060-b2da-434565e0a88a",
   "metadata": {},
   "outputs": [
    {
     "name": "stdout",
     "output_type": "stream",
     "text": [
      "[1 2 3]\n",
      "[4 5 6]\n"
     ]
    }
   ],
   "source": [
    "#Iterating 2D arrays:\n",
    "itrtwoarr = np.array([[1, 2, 3], [4, 5, 6]])\n",
    "\n",
    "for i in itrtwoarr:\n",
    "  print(i) #iterates the sub-arrays"
   ]
  },
  {
   "cell_type": "code",
   "execution_count": 13,
   "id": "86235333-86d4-4e8e-b9d2-077aeaf7587b",
   "metadata": {},
   "outputs": [
    {
     "name": "stdout",
     "output_type": "stream",
     "text": [
      "1\n",
      "2\n",
      "3\n",
      "4\n",
      "5\n",
      "6\n"
     ]
    }
   ],
   "source": [
    "#Iterating each single value of a 2D array instead of whole consituent arrays:\n",
    "ittrarr = np.array([[1, 2, 3], [4, 5, 6]])\n",
    "\n",
    "for i in ittrarr:\n",
    "  for j in i:\n",
    "    print(j)"
   ]
  },
  {
   "cell_type": "code",
   "execution_count": 14,
   "id": "38af353b-c018-4c4e-83fc-50d804848bd8",
   "metadata": {},
   "outputs": [
    {
     "name": "stdout",
     "output_type": "stream",
     "text": [
      "1\n",
      "2\n",
      "3\n",
      "4\n",
      "5\n",
      "6\n",
      "7\n",
      "8\n",
      "9\n",
      "10\n",
      "11\n",
      "12\n"
     ]
    }
   ],
   "source": [
    "#Iterating each single value of a 3D array instead of whole consituent arrays:\n",
    "itttrarr = np.array([[[1, 2, 3], [4, 5, 6]], [[7, 8, 9], [10, 11, 12]]])\n",
    "\n",
    "for i in itttrarr:\n",
    "  for j in i:\n",
    "    for k in j:\n",
    "      print(k)"
   ]
  },
  {
   "cell_type": "code",
   "execution_count": 15,
   "id": "675cd0e9-f8cc-4063-a804-b61c2240827e",
   "metadata": {},
   "outputs": [
    {
     "name": "stdout",
     "output_type": "stream",
     "text": [
      "1\n",
      "2\n",
      "3\n",
      "4\n",
      "5\n",
      "6\n",
      "7\n",
      "8\n"
     ]
    }
   ],
   "source": [
    "#Shorter method for above:\n",
    "itttrsarr = np.array([[[1, 2], [3, 4]], [[5, 6], [7, 8]]])\n",
    "\n",
    "for i in np.nditer(itttrsarr):\n",
    "  print(i)"
   ]
  },
  {
   "cell_type": "code",
   "execution_count": 16,
   "id": "cf4d7922-87fd-4698-a9b1-f876f305c438",
   "metadata": {},
   "outputs": [
    {
     "name": "stdout",
     "output_type": "stream",
     "text": [
      "b'1'\n",
      "b'2'\n",
      "b'3'\n"
     ]
    }
   ],
   "source": [
    "#Iterating different datatypes:\n",
    "dttarr = np.array([1, 2, 3])\n",
    "\n",
    "for i in np.nditer(dttarr, flags=['buffered'], op_dtypes=['S']):\n",
    "  print(i)"
   ]
  },
  {
   "cell_type": "code",
   "execution_count": 17,
   "id": "6912a0ef-8e95-4cb9-b106-d291e14745f0",
   "metadata": {},
   "outputs": [
    {
     "name": "stdout",
     "output_type": "stream",
     "text": [
      "1\n",
      "3\n",
      "5\n",
      "7\n"
     ]
    }
   ],
   "source": [
    "#Alternate iteration:\n",
    "altitrarr = np.array([[1, 2, 3, 4], [5, 6, 7, 8]])\n",
    "\n",
    "for i in np.nditer(altitrarr[:, ::2]):\n",
    "  print(i)"
   ]
  },
  {
   "cell_type": "code",
   "execution_count": 19,
   "id": "c1ff2dc1-2c2b-4b27-9994-6a43004f628f",
   "metadata": {},
   "outputs": [
    {
     "name": "stdout",
     "output_type": "stream",
     "text": [
      "(0, 0) 1\n",
      "(0, 1) 2\n",
      "(0, 2) 3\n",
      "(0, 3) 4\n",
      "(1, 0) 5\n",
      "(1, 1) 6\n",
      "(1, 2) 7\n",
      "(1, 3) 8\n"
     ]
    }
   ],
   "source": [
    "#Iterating along with the address of the element (enumeration):\n",
    "enuarr = np.array([[1, 2, 3, 4], [5, 6, 7, 8]])\n",
    "\n",
    "for idi, i in np.ndenumerate(enuarr):\n",
    "  print(idi, i)"
   ]
  },
  {
   "cell_type": "code",
   "execution_count": 21,
   "id": "b81a7c41-dc3d-4a36-b7ac-cb5b18b1d5d6",
   "metadata": {},
   "outputs": [
    {
     "name": "stdout",
     "output_type": "stream",
     "text": [
      "[1 2 3 4 5 6]\n"
     ]
    }
   ],
   "source": [
    "#Joining basic arrays using concatenate function:\n",
    "firstarr = np.array([1, 2, 3])\n",
    "secondarr = np.array([4, 5, 6])\n",
    "\n",
    "finalarr = np.concatenate((firstarr, secondarr))\n",
    "print(finalarr)"
   ]
  },
  {
   "cell_type": "code",
   "execution_count": 23,
   "id": "a783f2ee-5446-4a94-b4d6-928c45805a31",
   "metadata": {},
   "outputs": [
    {
     "name": "stdout",
     "output_type": "stream",
     "text": [
      "[[1 2 5 6]\n",
      " [3 4 7 8]]\n"
     ]
    }
   ],
   "source": [
    "#Joining 2D arrays using concatenate:\n",
    "arrfirst = np.array([[1, 2], [3, 4]])\n",
    "arsecond = np.array([[5, 6], [7, 8]])\n",
    "\n",
    "arrfinal = np.concatenate((arrfirst, arsecond), axis=1) #Each 2D array becomes 1D and the result array is 2D\n",
    "print(arrfinal)"
   ]
  },
  {
   "cell_type": "code",
   "execution_count": 27,
   "id": "1cf6516c-bfe6-42ef-ab66-6ddf060359e9",
   "metadata": {},
   "outputs": [
    {
     "name": "stdout",
     "output_type": "stream",
     "text": [
      "[[1 4]\n",
      " [2 5]\n",
      " [3 6]]\n"
     ]
    }
   ],
   "source": [
    "#Joining using stack function:\n",
    "arrstack1 = np.array([1, 2, 3])\n",
    "arrstack2 = np.array([4, 5, 6])\n",
    "\n",
    "arrstacked = np.stack((arrstack1, arrstack2), axis=1) #Created a 2D array\n",
    "print(arrstacked)"
   ]
  },
  {
   "cell_type": "code",
   "execution_count": 29,
   "id": "266110ae-898d-45eb-8d8e-5018ca04f5ed",
   "metadata": {},
   "outputs": [
    {
     "name": "stdout",
     "output_type": "stream",
     "text": [
      "[1 2 3 4 5 6]\n"
     ]
    }
   ],
   "source": [
    "#Stacking along rows:\n",
    "arrrow1 = np.array([1, 2, 3])\n",
    "arrrow2 = np.array([4, 5, 6])\n",
    "\n",
    "arrrows = np.hstack((arrrow1, arrrow2)) #Arranges horizontally\n",
    "print(arrrows)"
   ]
  },
  {
   "cell_type": "code",
   "execution_count": 31,
   "id": "6fc72fe6-b52b-48ba-b95c-624c6cce983e",
   "metadata": {},
   "outputs": [
    {
     "name": "stdout",
     "output_type": "stream",
     "text": [
      "[[1 2 3]\n",
      " [4 5 6]]\n"
     ]
    }
   ],
   "source": [
    "#Stacking along columns:\n",
    "arrcol1 = np.array([1, 2, 3])\n",
    "arrcol2 = np.array([4, 5, 6])\n",
    "\n",
    "arrcols = np.vstack((arrcol1, arrcol2)) #Arranges vertically as a 2D array\n",
    "print(arrcols)"
   ]
  },
  {
   "cell_type": "code",
   "execution_count": 34,
   "id": "7fe4af39-1169-485d-b4d1-6650361521fa",
   "metadata": {},
   "outputs": [
    {
     "name": "stdout",
     "output_type": "stream",
     "text": [
      "[[[1 4]\n",
      "  [2 5]\n",
      "  [3 6]]]\n"
     ]
    }
   ],
   "source": [
    "#Stacking along height (Depth):\n",
    "arrhei1 = np.array([1, 2, 3])\n",
    "arrhei2 = np.array([4, 5, 6])\n",
    "\n",
    "arrhei = np.dstack((arrhei1, arrhei2)) #One from first array and one from another made into tiny arrays\n",
    "print(arrhei)"
   ]
  },
  {
   "cell_type": "code",
   "execution_count": 36,
   "id": "aae4336c-4007-464a-898c-42da6c207a1c",
   "metadata": {},
   "outputs": [
    {
     "name": "stdout",
     "output_type": "stream",
     "text": [
      "[array([1, 2]), array([3, 4]), array([5, 6])]\n"
     ]
    }
   ],
   "source": [
    "#Spliting the array:\n",
    "onearr = np.array([1, 2, 3, 4, 5, 6])\n",
    "slparr = np.array_split(onearr, 3) #Divides the above array into three arrays\n",
    "\n",
    "print(slparr)"
   ]
  },
  {
   "cell_type": "code",
   "execution_count": 38,
   "id": "500eacef-af95-4c2c-9f00-5672598642c1",
   "metadata": {},
   "outputs": [
    {
     "name": "stdout",
     "output_type": "stream",
     "text": [
      "[1 2]\n",
      "[3 4]\n",
      "[5 6]\n"
     ]
    }
   ],
   "source": [
    "#Printing each splitted array individually:\n",
    "print(slparr[0])\n",
    "print(slparr[1])\n",
    "print(slparr[2])"
   ]
  },
  {
   "cell_type": "code",
   "execution_count": 39,
   "id": "4e38cbaa-e6a5-4de5-aa6f-a613f23f2bed",
   "metadata": {},
   "outputs": [
    {
     "name": "stdout",
     "output_type": "stream",
     "text": [
      "[array([[1, 2],\n",
      "       [3, 4]]), array([[5, 6],\n",
      "       [7, 8]]), array([[ 9, 10],\n",
      "       [11, 12]])]\n"
     ]
    }
   ],
   "source": [
    "#Splitting 2D array:\n",
    "arrnew = np.array([[1, 2], [3, 4], [5, 6], [7, 8], [9, 10], [11, 12]])\n",
    "splitarr = np.array_split(arrnew, 3)\n",
    "\n",
    "print(splitarr)"
   ]
  },
  {
   "cell_type": "code",
   "execution_count": 42,
   "id": "09f3dede-3642-4b2f-a98b-960df36fba8c",
   "metadata": {},
   "outputs": [
    {
     "name": "stdout",
     "output_type": "stream",
     "text": [
      "[array([[ 1],\n",
      "       [ 4],\n",
      "       [ 7],\n",
      "       [10],\n",
      "       [13],\n",
      "       [16]]), array([[ 2],\n",
      "       [ 5],\n",
      "       [ 8],\n",
      "       [11],\n",
      "       [14],\n",
      "       [17]]), array([[ 3],\n",
      "       [ 6],\n",
      "       [ 9],\n",
      "       [12],\n",
      "       [15],\n",
      "       [18]])]\n"
     ]
    }
   ],
   "source": [
    "#Splitting along rows:\n",
    "arrfull = np.array([[1, 2, 3], [4, 5, 6], [7, 8, 9], [10, 11, 12], [13, 14, 15], [16, 17, 18]])\n",
    "rowarr = np.array_split(arrfull, 3, axis=1) #Each element of each array as a single element array in three arrays\n",
    "\n",
    "print(rowarr)"
   ]
  },
  {
   "cell_type": "code",
   "execution_count": 43,
   "id": "e9c5fc19-0cb0-42b2-ab21-07b9cedd240b",
   "metadata": {},
   "outputs": [
    {
     "name": "stdout",
     "output_type": "stream",
     "text": [
      "[array([[ 1],\n",
      "       [ 4],\n",
      "       [ 7],\n",
      "       [10],\n",
      "       [13],\n",
      "       [16]]), array([[ 2],\n",
      "       [ 5],\n",
      "       [ 8],\n",
      "       [11],\n",
      "       [14],\n",
      "       [17]]), array([[ 3],\n",
      "       [ 6],\n",
      "       [ 9],\n",
      "       [12],\n",
      "       [15],\n",
      "       [18]])]\n"
     ]
    }
   ],
   "source": [
    "#ALternate method for above- opposite to hstack:\n",
    "abovearr = np.array([[1, 2, 3], [4, 5, 6], [7, 8, 9], [10, 11, 12], [13, 14, 15], [16, 17, 18]])\n",
    "nabovearr = np.hsplit(abovearr, 3)\n",
    "\n",
    "print(nabovearr)"
   ]
  },
  {
   "cell_type": "code",
   "execution_count": 45,
   "id": "d4e017e3-2c67-4ade-ad19-3915c867f958",
   "metadata": {},
   "outputs": [
    {
     "name": "stdout",
     "output_type": "stream",
     "text": [
      "(array([3, 5, 6], dtype=int64),)\n"
     ]
    }
   ],
   "source": [
    "#Searching an element in the array using 'where':\n",
    "givenarr = np.array([1, 2, 3, 4, 5, 4, 4])\n",
    "\n",
    "i = np.where(givenarr == 4) #index of the positions where the given elements exist\n",
    "print(i)"
   ]
  },
  {
   "cell_type": "code",
   "execution_count": 47,
   "id": "2cb0578e-58ec-4855-bb2b-b352543211a1",
   "metadata": {},
   "outputs": [
    {
     "name": "stdout",
     "output_type": "stream",
     "text": [
      "(array([1, 3, 5, 7], dtype=int64),)\n"
     ]
    }
   ],
   "source": [
    "#Search the even numbers in the array by index:\n",
    "thisarr = np.array([1, 2, 3, 4, 5, 6, 7, 8])\n",
    "\n",
    "x = np.where(thisarr%2 == 0)\n",
    "print(x)"
   ]
  },
  {
   "cell_type": "code",
   "execution_count": 49,
   "id": "264a5b29-c3a6-4f97-8bc8-acb52ae509f3",
   "metadata": {},
   "outputs": [
    {
     "name": "stdout",
     "output_type": "stream",
     "text": [
      "1\n"
     ]
    }
   ],
   "source": [
    "#Searchsort- gives the index of where an element should be added to keep the array sorted:\n",
    "existarr = np.array([6, 8, 9, 10])\n",
    "\n",
    "x = np.searchsorted(existarr, 7)\n",
    "print(x)"
   ]
  },
  {
   "cell_type": "code",
   "execution_count": 51,
   "id": "f069740b-b0c9-43a4-b8d4-cc2be3c066c2",
   "metadata": {},
   "outputs": [
    {
     "name": "stdout",
     "output_type": "stream",
     "text": [
      "[1 2 3]\n"
     ]
    }
   ],
   "source": [
    "#Doing above on multiple elements:\n",
    "arrthis = np.array([1, 3, 5, 7])\n",
    "\n",
    "x = np.searchsorted(arrthis, [2, 4, 6]) #Numbers could be entered at the given indexes (it tries the first,and then the scond, and then the third)\n",
    "print(x)"
   ]
  },
  {
   "cell_type": "code",
   "execution_count": 52,
   "id": "d1af77da-f23f-4868-b977-187a5ed37d48",
   "metadata": {},
   "outputs": [
    {
     "name": "stdout",
     "output_type": "stream",
     "text": [
      "[0 1 2 3]\n"
     ]
    }
   ],
   "source": [
    "#Sorting an array:\n",
    "unsortedarr = np.array([3, 2, 0, 1])\n",
    "print(np.sort(unsortedarr))"
   ]
  },
  {
   "cell_type": "code",
   "execution_count": 53,
   "id": "a4e739e5-f683-454f-8d0b-4580d62bd0e5",
   "metadata": {},
   "outputs": [
    {
     "name": "stdout",
     "output_type": "stream",
     "text": [
      "['apple' 'banana' 'blueberry' 'cherry']\n"
     ]
    }
   ],
   "source": [
    "#Sorting the string values alphabetically:\n",
    "unsoarr = np.array(['banana', 'cherry', 'apple', 'blueberry'])\n",
    "print(np.sort(unsoarr))"
   ]
  },
  {
   "cell_type": "code",
   "execution_count": 55,
   "id": "d9647c7c-e614-4a07-be0a-3846f1bdc601",
   "metadata": {},
   "outputs": [
    {
     "name": "stdout",
     "output_type": "stream",
     "text": [
      "[False  True  True]\n"
     ]
    }
   ],
   "source": [
    "#Sorting the boolean values:\n",
    "unarr = np.array([True, False, True]) #It is basically sorted in alphabetical order meaning false would come first\n",
    "print(np.sort(unarr))"
   ]
  },
  {
   "cell_type": "code",
   "execution_count": 57,
   "id": "51d277e2-8108-4e07-8211-471df5836c2f",
   "metadata": {},
   "outputs": [
    {
     "name": "stdout",
     "output_type": "stream",
     "text": [
      "[[2 3 4]\n",
      " [0 1 5]]\n"
     ]
    }
   ],
   "source": [
    "#Sorting 2D array:\n",
    "twounsortedarr = np.array([[3, 2, 4], [5, 0, 1]])\n",
    "print(np.sort(twounsortedarr)) #sorts each sub array internally"
   ]
  },
  {
   "cell_type": "code",
   "execution_count": 58,
   "id": "f9078c8e-f765-4c5e-85f0-9c51757d0942",
   "metadata": {},
   "outputs": [
    {
     "name": "stdout",
     "output_type": "stream",
     "text": [
      "[41 43]\n"
     ]
    }
   ],
   "source": [
    "#Filtering the arrays:\n",
    "arrtofilter = np.array([41, 42, 43, 44])\n",
    "x = [True, False, True, False] #Corresponds to each value in the array\n",
    "filteredarr = arrtofilter[x]\n",
    "\n",
    "print(filteredarr)"
   ]
  },
  {
   "cell_type": "code",
   "execution_count": 61,
   "id": "67ebcbce-ed2e-4e15-ba3d-dcd980588607",
   "metadata": {},
   "outputs": [
    {
     "name": "stdout",
     "output_type": "stream",
     "text": [
      "[False, True, False, True, False, True, False, True, False]\n",
      "[2 4 6 8]\n"
     ]
    }
   ],
   "source": [
    "#Creating filter to sort out even and odd in an array:\n",
    "oldarr = np.array([1, 2, 3, 4, 5, 6, 7, 8, 9])\n",
    "\n",
    "filter_arr = [] #Create an empty list\n",
    "\n",
    "for element in oldarr:\n",
    "  if element % 2 == 0:\n",
    "    filter_arr.append(True)\n",
    "  else:\n",
    "    filter_arr.append(False)\n",
    "\n",
    "newarr = oldarr[filter_arr]\n",
    "\n",
    "print(filter_arr)\n",
    "print(newarr)"
   ]
  },
  {
   "cell_type": "code",
   "execution_count": 63,
   "id": "d72697fc-e71b-4455-b91f-aa33192bfa57",
   "metadata": {},
   "outputs": [
    {
     "name": "stdout",
     "output_type": "stream",
     "text": [
      "[False  True False  True False  True False  True False]\n",
      "[2 4 6 8]\n"
     ]
    }
   ],
   "source": [
    "#Doing above by directly creating filter from the array:\n",
    "prevarr = np.array([1, 2, 3, 4, 5, 6, 7, 8, 9])\n",
    "\n",
    "filter_arr = prevarr % 2 == 0\n",
    "\n",
    "newarr = prevarr[filter_arr]\n",
    "\n",
    "print(filter_arr)\n",
    "print(newarr)"
   ]
  },
  {
   "cell_type": "code",
   "execution_count": 64,
   "id": "471816dd-7cd2-4230-a37a-f435f5d68a84",
   "metadata": {},
   "outputs": [],
   "source": [
    "#For using 'random' function:\n",
    "from numpy import random"
   ]
  },
  {
   "cell_type": "code",
   "execution_count": 65,
   "id": "4edf03b7-36ff-4cf2-b579-01d310c1d774",
   "metadata": {},
   "outputs": [
    {
     "name": "stdout",
     "output_type": "stream",
     "text": [
      "79\n"
     ]
    }
   ],
   "source": [
    "#Generating a random number:\n",
    "x = random.randint(100) #number between 1- 100\n",
    "print(x)"
   ]
  },
  {
   "cell_type": "code",
   "execution_count": 66,
   "id": "2162b001-b783-455c-b042-6ec2d7ba35ea",
   "metadata": {},
   "outputs": [
    {
     "name": "stdout",
     "output_type": "stream",
     "text": [
      "0.35226303473737697\n"
     ]
    }
   ],
   "source": [
    "#Generating random float:\n",
    "x = random.rand()\n",
    "print(x)"
   ]
  },
  {
   "cell_type": "code",
   "execution_count": 67,
   "id": "7968abe6-5afe-4a3b-b27b-fa09f62a44a9",
   "metadata": {},
   "outputs": [
    {
     "name": "stdout",
     "output_type": "stream",
     "text": [
      "[36 70 67 79 37]\n"
     ]
    }
   ],
   "source": [
    "#Generating random array:\n",
    "x=random.randint(100, size=(5)) #An array with 5 elements having random values between 1-100 \n",
    "print(x)"
   ]
  },
  {
   "cell_type": "code",
   "execution_count": 71,
   "id": "37029117-4841-4cf4-a9f2-5b0ca081464e",
   "metadata": {},
   "outputs": [
    {
     "name": "stdout",
     "output_type": "stream",
     "text": [
      "[0.20391509 0.92451172 0.80567139 0.74127506 0.99831511]\n"
     ]
    }
   ],
   "source": [
    "#Similarly, we can create an array with floats:\n",
    "x = random.rand(5)\n",
    "print(x)"
   ]
  },
  {
   "cell_type": "code",
   "execution_count": 68,
   "id": "7a26261d-e880-403f-9234-0885336da0f1",
   "metadata": {},
   "outputs": [
    {
     "name": "stdout",
     "output_type": "stream",
     "text": [
      "[[67 20 32 21 25]\n",
      " [45 91 60 83 30]\n",
      " [58 71 19 83  8]]\n"
     ]
    }
   ],
   "source": [
    "#Creating multidimensional array with random values:\n",
    "x = random.randint(100, size=(3, 5)) #2D\n",
    "print(x)"
   ]
  },
  {
   "cell_type": "code",
   "execution_count": 70,
   "id": "5bfb557c-76af-47af-8d8d-824e8ae760ed",
   "metadata": {},
   "outputs": [
    {
     "name": "stdout",
     "output_type": "stream",
     "text": [
      "[[[19 33]\n",
      "  [50 64]\n",
      "  [ 8 50]\n",
      "  [18 20]\n",
      "  [21 65]]\n",
      "\n",
      " [[72  7]\n",
      "  [60 74]\n",
      "  [96  3]\n",
      "  [37 33]\n",
      "  [95 98]]\n",
      "\n",
      " [[62 36]\n",
      "  [18 76]\n",
      "  [33 96]\n",
      "  [60 42]\n",
      "  [83 62]]]\n"
     ]
    }
   ],
   "source": [
    "x = random.randint(100, size=(3, 5, 2)) #3D\n",
    "print(x)"
   ]
  },
  {
   "cell_type": "code",
   "execution_count": 72,
   "id": "3f9fcd20-de4f-42b2-a7b2-18dc38546355",
   "metadata": {},
   "outputs": [
    {
     "name": "stdout",
     "output_type": "stream",
     "text": [
      "5\n"
     ]
    }
   ],
   "source": [
    "#Pick a random element from an array:\n",
    "x = random.choice([3, 5, 7, 9])\n",
    "print(x)"
   ]
  },
  {
   "cell_type": "code",
   "execution_count": 74,
   "id": "11c89809-4e5e-4104-86de-51032821f009",
   "metadata": {},
   "outputs": [
    {
     "name": "stdout",
     "output_type": "stream",
     "text": [
      "[[5 9 9 5 7]\n",
      " [9 5 9 9 9]\n",
      " [5 9 7 7 9]]\n"
     ]
    }
   ],
   "source": [
    "#From the given array, generate 2D array with the elements in given array at different positions:\n",
    "x = random.choice([3, 5, 7, 9], size=(3, 5))\n",
    "print(x)"
   ]
  }
 ],
 "metadata": {
  "kernelspec": {
   "display_name": "Python 3 (ipykernel)",
   "language": "python",
   "name": "python3"
  },
  "language_info": {
   "codemirror_mode": {
    "name": "ipython",
    "version": 3
   },
   "file_extension": ".py",
   "mimetype": "text/x-python",
   "name": "python",
   "nbconvert_exporter": "python",
   "pygments_lexer": "ipython3",
   "version": "3.12.4"
  }
 },
 "nbformat": 4,
 "nbformat_minor": 5
}
